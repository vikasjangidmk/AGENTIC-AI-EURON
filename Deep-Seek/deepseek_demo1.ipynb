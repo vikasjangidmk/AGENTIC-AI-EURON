{
  "nbformat": 4,
  "nbformat_minor": 0,
  "metadata": {
    "colab": {
      "provenance": []
    },
    "kernelspec": {
      "name": "python3",
      "display_name": "Python 3"
    },
    "language_info": {
      "name": "python"
    }
  },
  "cells": [
    {
      "cell_type": "code",
      "source": [
        "!pip install groq"
      ],
      "metadata": {
        "colab": {
          "base_uri": "https://localhost:8080/"
        },
        "id": "a1rxATFz5rnT",
        "outputId": "5783c523-4c88-4dce-ca11-d13e2297dbf4"
      },
      "execution_count": 1,
      "outputs": [
        {
          "output_type": "stream",
          "name": "stdout",
          "text": [
            "Collecting groq\n",
            "  Downloading groq-0.22.0-py3-none-any.whl.metadata (15 kB)\n",
            "Requirement already satisfied: anyio<5,>=3.5.0 in /usr/local/lib/python3.11/dist-packages (from groq) (4.9.0)\n",
            "Requirement already satisfied: distro<2,>=1.7.0 in /usr/local/lib/python3.11/dist-packages (from groq) (1.9.0)\n",
            "Requirement already satisfied: httpx<1,>=0.23.0 in /usr/local/lib/python3.11/dist-packages (from groq) (0.28.1)\n",
            "Requirement already satisfied: pydantic<3,>=1.9.0 in /usr/local/lib/python3.11/dist-packages (from groq) (2.11.0)\n",
            "Requirement already satisfied: sniffio in /usr/local/lib/python3.11/dist-packages (from groq) (1.3.1)\n",
            "Requirement already satisfied: typing-extensions<5,>=4.10 in /usr/local/lib/python3.11/dist-packages (from groq) (4.13.0)\n",
            "Requirement already satisfied: idna>=2.8 in /usr/local/lib/python3.11/dist-packages (from anyio<5,>=3.5.0->groq) (3.10)\n",
            "Requirement already satisfied: certifi in /usr/local/lib/python3.11/dist-packages (from httpx<1,>=0.23.0->groq) (2025.1.31)\n",
            "Requirement already satisfied: httpcore==1.* in /usr/local/lib/python3.11/dist-packages (from httpx<1,>=0.23.0->groq) (1.0.7)\n",
            "Requirement already satisfied: h11<0.15,>=0.13 in /usr/local/lib/python3.11/dist-packages (from httpcore==1.*->httpx<1,>=0.23.0->groq) (0.14.0)\n",
            "Requirement already satisfied: annotated-types>=0.6.0 in /usr/local/lib/python3.11/dist-packages (from pydantic<3,>=1.9.0->groq) (0.7.0)\n",
            "Requirement already satisfied: pydantic-core==2.33.0 in /usr/local/lib/python3.11/dist-packages (from pydantic<3,>=1.9.0->groq) (2.33.0)\n",
            "Requirement already satisfied: typing-inspection>=0.4.0 in /usr/local/lib/python3.11/dist-packages (from pydantic<3,>=1.9.0->groq) (0.4.0)\n",
            "Downloading groq-0.22.0-py3-none-any.whl (126 kB)\n",
            "\u001b[2K   \u001b[90m━━━━━━━━━━━━━━━━━━━━━━━━━━━━━━━━━━━━━━━━\u001b[0m \u001b[32m126.7/126.7 kB\u001b[0m \u001b[31m3.8 MB/s\u001b[0m eta \u001b[36m0:00:00\u001b[0m\n",
            "\u001b[?25hInstalling collected packages: groq\n",
            "Successfully installed groq-0.22.0\n"
          ]
        }
      ]
    },
    {
      "cell_type": "code",
      "execution_count": 2,
      "metadata": {
        "id": "wbTZanfa5dlN"
      },
      "outputs": [],
      "source": [
        "from groq import Groq"
      ]
    },
    {
      "cell_type": "code",
      "source": [
        "client = Groq(api_key=\"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\")"
      ],
      "metadata": {
        "id": "HYbCJ2665xX5"
      },
      "execution_count": 3,
      "outputs": []
    },
    {
      "cell_type": "code",
      "source": [
        "user_input = \"tell me about Agentic AI\""
      ],
      "metadata": {
        "id": "6cAX4c5R6c4M"
      },
      "execution_count": 4,
      "outputs": []
    },
    {
      "cell_type": "code",
      "source": [
        "completion = client.chat.completions.create(\n",
        "    model = \"deepseek-r1-distill-llama-70b\",\n",
        "    messages=[\n",
        "        {\n",
        "            \"role\" : \"user\",\n",
        "            \"content\":user_input\n",
        "        }\n",
        "    ],\n",
        "    temperature=0.6,\n",
        "    max_completion_tokens=4096,\n",
        "    stream=True,\n",
        "    stop=None\n",
        ")\n",
        "\n",
        "for chunk in completion:\n",
        "  print(chunk.choices[0].delta.content or \"\", end =\"\")"
      ],
      "metadata": {
        "colab": {
          "base_uri": "https://localhost:8080/"
        },
        "id": "bozqnPR95-MO",
        "outputId": "3ffefc45-2e22-4360-9da7-293adf495169"
      },
      "execution_count": 5,
      "outputs": [
        {
          "output_type": "stream",
          "name": "stdout",
          "text": [
            "<think>\n",
            "\n",
            "</think>\n",
            "\n",
            "Agentic AI refers to artificial intelligence systems that are designed to perform tasks autonomously, making decisions and acting on behalf of their users or organizations. These AI systems are typically characterized by their ability to perceive their environment, reason about the current state, and take actions to achieve specific goals. Agentic AI can operate in various domains, including software applications, robotics, and other autonomous systems.\n",
            "\n",
            "### Key Characteristics of Agentic AI:\n",
            "1. **Autonomy**: The ability to operate independently without constant human intervention.\n",
            "2. **Reactivity**: The capacity to perceive the environment and respond to changes in real-time.\n",
            "3. **Proactivity**: The ability to anticipate future events or needs and take initiative accordingly.\n",
            "4. **Social Ability**: The capability to interact and collaborate with humans or other agents.\n",
            "5. **Reasoning and Learning**: The ability to draw inferences, solve problems, and learn from experiences.\n",
            "\n",
            "### Types of Agentic AI:\n",
            "1. **Reactive Agents**: These agents react to the current state of the environment without considering past experiences. Examples include simple chatbots or automated responders.\n",
            "2. **Cognitive Agents**: These agents have the ability to reason, plan, and learn from their interactions, enabling them to handle more complex tasks.\n",
            "3. **Autonomous Agents**: These agents can function independently, making decisions and taking actions without external control. Examples include self-driving cars and drones.\n",
            "\n",
            "### Applications of Agentic AI:\n",
            "- **Virtual Assistants**: AI systems like Siri, Alexa, and Google Assistant that perform tasks based on user commands.\n",
            "- **Robotics**: Autonomous robots used in manufacturing, logistics, and healthcare.\n",
            "- **Smart Systems**: Home automation systems that adjust settings based on user preferences and environmental conditions.\n",
            "- **Financial Trading**: Algorithmic trading systems that make decisions based on market data and predefined strategies.\n",
            "- **Healthcare**: AI systems that assist in diagnosis, treatment recommendations, and patient monitoring.\n",
            "\n",
            "### Challenges and Considerations:\n",
            "- **Ethics and Safety**: Ensuring that agentic AI systems operate within ethical guidelines and do not cause harm.\n",
            "- **Trust and Transparency**: Building user trust by making the decision-making processes of AI systems transparent and explainable.\n",
            "- **Security**: Protecting agentic AI systems from potential vulnerabilities and malicious attacks.\n",
            "- **Regulation**: Developing regulatory frameworks to govern the development and deployment of agentic AI.\n",
            "\n",
            "As agentic AI continues to evolve, it has the potential to significantly impact various industries and aspects of daily life, offering greater efficiency, convenience, and innovation. However, it also raises important questions about control, accountability, and the ethical implications of autonomous decision-making."
          ]
        }
      ]
    },
    {
      "cell_type": "code",
      "source": [],
      "metadata": {
        "id": "jpIz0o7m7GIa"
      },
      "execution_count": null,
      "outputs": []
    }
  ]
}