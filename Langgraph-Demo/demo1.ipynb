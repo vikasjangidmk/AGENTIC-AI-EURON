{
 "cells": [
  {
   "cell_type": "code",
   "execution_count": 4,
   "metadata": {},
   "outputs": [],
   "source": [
    "import os\n",
    "from dotenv import load_dotenv,find_dotenv\n",
    "_ = load_dotenv(find_dotenv())\n",
    "open_api_key = os.environ[\"OPENAI_API_KEY\"]"
   ]
  },
  {
   "cell_type": "code",
   "execution_count": 5,
   "metadata": {},
   "outputs": [],
   "source": [
    "from langchain_openai import ChatOpenAI\n",
    "chatModel = ChatOpenAI(\n",
    "    #openai_api_key=open_api_key,\n",
    "    #temperature=0.5,\n",
    "    model=\"gpt-3.5-turbo\"\n",
    "    #max_tokens=2000,\n",
    ")"
   ]
  },
  {
   "cell_type": "code",
   "execution_count": 6,
   "metadata": {},
   "outputs": [],
   "source": [
    "messages = [\n",
    "    (\"system\",\"You are an expert about python coding\"),\n",
    "    (\"human\",\"Hey i need a python code to generate an cat image\")\n",
    "]"
   ]
  },
  {
   "cell_type": "code",
   "execution_count": 7,
   "metadata": {},
   "outputs": [],
   "source": [
    "response = chatModel.invoke(messages)"
   ]
  },
  {
   "cell_type": "code",
   "execution_count": 8,
   "metadata": {},
   "outputs": [
    {
     "data": {
      "text/plain": [
       "AIMessage(content=\"To generate a cat image in Python, you can use the `pycat` library. This library allows you to create ASCII art images of cats. Here's a simple code snippet to generate a cat image using the `pycat` library:\\n\\n```python\\nfrom pycat import CatGenerator\\n\\n# Create an instance of CatGenerator\\ncat_generator = CatGenerator()\\n\\n# Generate and print a cat image\\nprint(cat_generator.generate())\\n```\\n\\nYou can install the `pycat` library using pip:\\n\\n```\\npip install pycat\\n```\\n\\nThis code will output an ASCII art representation of a cat. You can customize the appearance of the cat by passing parameters to the `generate()` method.\", response_metadata={'token_usage': {'completion_tokens': 142, 'prompt_tokens': 29, 'total_tokens': 171, 'completion_tokens_details': {'accepted_prediction_tokens': 0, 'audio_tokens': 0, 'reasoning_tokens': 0, 'rejected_prediction_tokens': 0}, 'prompt_tokens_details': {'audio_tokens': 0, 'cached_tokens': 0}}, 'model_name': 'gpt-3.5-turbo', 'system_fingerprint': None, 'finish_reason': 'stop', 'logprobs': None}, id='run-683305c2-f07b-4d06-9929-aad00465669a-0')"
      ]
     },
     "execution_count": 8,
     "metadata": {},
     "output_type": "execute_result"
    }
   ],
   "source": [
    "response"
   ]
  },
  {
   "cell_type": "code",
   "execution_count": 10,
   "metadata": {},
   "outputs": [
    {
     "name": "stdout",
     "output_type": "stream",
     "text": [
      "To generate a cat image in Python, you can use the `pycat` library. This library allows you to create ASCII art images of cats. Here's a simple code snippet to generate a cat image using the `pycat` library:\n",
      "\n",
      "```python\n",
      "from pycat import CatGenerator\n",
      "\n",
      "# Create an instance of CatGenerator\n",
      "cat_generator = CatGenerator()\n",
      "\n",
      "# Generate and print a cat image\n",
      "print(cat_generator.generate())\n",
      "```\n",
      "\n",
      "You can install the `pycat` library using pip:\n",
      "\n",
      "```\n",
      "pip install pycat\n",
      "```\n",
      "\n",
      "This code will output an ASCII art representation of a cat. You can customize the appearance of the cat by passing parameters to the `generate()` method.\n"
     ]
    }
   ],
   "source": [
    "print(response.content)"
   ]
  },
  {
   "cell_type": "code",
   "execution_count": 11,
   "metadata": {},
   "outputs": [
    {
     "data": {
      "text/plain": [
       "{'token_usage': {'completion_tokens': 142,\n",
       "  'prompt_tokens': 29,\n",
       "  'total_tokens': 171,\n",
       "  'completion_tokens_details': {'accepted_prediction_tokens': 0,\n",
       "   'audio_tokens': 0,\n",
       "   'reasoning_tokens': 0,\n",
       "   'rejected_prediction_tokens': 0},\n",
       "  'prompt_tokens_details': {'audio_tokens': 0, 'cached_tokens': 0}},\n",
       " 'model_name': 'gpt-3.5-turbo',\n",
       " 'system_fingerprint': None,\n",
       " 'finish_reason': 'stop',\n",
       " 'logprobs': None}"
      ]
     },
     "execution_count": 11,
     "metadata": {},
     "output_type": "execute_result"
    }
   ],
   "source": [
    "response.response_metadata"
   ]
  },
  {
   "cell_type": "markdown",
   "metadata": {},
   "source": [
    "## **Groq Model**"
   ]
  },
  {
   "cell_type": "code",
   "execution_count": null,
   "metadata": {},
   "outputs": [],
   "source": []
  }
 ],
 "metadata": {
  "kernelspec": {
   "display_name": "Python 3",
   "language": "python",
   "name": "python3"
  },
  "language_info": {
   "codemirror_mode": {
    "name": "ipython",
    "version": 3
   },
   "file_extension": ".py",
   "mimetype": "text/x-python",
   "name": "python",
   "nbconvert_exporter": "python",
   "pygments_lexer": "ipython3",
   "version": "3.10.16"
  }
 },
 "nbformat": 4,
 "nbformat_minor": 2
}
