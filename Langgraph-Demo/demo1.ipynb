{
 "cells": [
  {
   "cell_type": "code",
   "execution_count": null,
   "metadata": {},
   "outputs": [],
   "source": [
    "import os\n",
    "from dotenv import load_dotenv,find_dotenv\n",
    "_ = load_dotenv(find_dotenv())\n",
    "open_api_key = os.environ[\"OPENAI_API_KEY\"]\n",
    "TAVILY_API_KEY = os.environ[\"TAVILY_API_KEY\"] "
   ]
  },
  {
   "cell_type": "code",
   "execution_count": 5,
   "metadata": {},
   "outputs": [],
   "source": [
    "from langchain_openai import ChatOpenAI\n",
    "chatModel = ChatOpenAI(\n",
    "    #openai_api_key=open_api_key,\n",
    "    #temperature=0.5,\n",
    "    model=\"gpt-3.5-turbo\"\n",
    "    #max_tokens=2000,\n",
    ")"
   ]
  },
  {
   "cell_type": "code",
   "execution_count": 6,
   "metadata": {},
   "outputs": [],
   "source": [
    "messages = [\n",
    "    (\"system\",\"You are an expert about python coding\"),\n",
    "    (\"human\",\"Hey i need a python code to generate an cat image\")\n",
    "]"
   ]
  },
  {
   "cell_type": "code",
   "execution_count": 7,
   "metadata": {},
   "outputs": [],
   "source": [
    "response = chatModel.invoke(messages)"
   ]
  },
  {
   "cell_type": "code",
   "execution_count": 8,
   "metadata": {},
   "outputs": [
    {
     "data": {
      "text/plain": [
       "AIMessage(content=\"To generate a cat image in Python, you can use the `pycat` library. This library allows you to create ASCII art images of cats. Here's a simple code snippet to generate a cat image using the `pycat` library:\\n\\n```python\\nfrom pycat import CatGenerator\\n\\n# Create an instance of CatGenerator\\ncat_generator = CatGenerator()\\n\\n# Generate and print a cat image\\nprint(cat_generator.generate())\\n```\\n\\nYou can install the `pycat` library using pip:\\n\\n```\\npip install pycat\\n```\\n\\nThis code will output an ASCII art representation of a cat. You can customize the appearance of the cat by passing parameters to the `generate()` method.\", response_metadata={'token_usage': {'completion_tokens': 142, 'prompt_tokens': 29, 'total_tokens': 171, 'completion_tokens_details': {'accepted_prediction_tokens': 0, 'audio_tokens': 0, 'reasoning_tokens': 0, 'rejected_prediction_tokens': 0}, 'prompt_tokens_details': {'audio_tokens': 0, 'cached_tokens': 0}}, 'model_name': 'gpt-3.5-turbo', 'system_fingerprint': None, 'finish_reason': 'stop', 'logprobs': None}, id='run-683305c2-f07b-4d06-9929-aad00465669a-0')"
      ]
     },
     "execution_count": 8,
     "metadata": {},
     "output_type": "execute_result"
    }
   ],
   "source": [
    "response"
   ]
  },
  {
   "cell_type": "code",
   "execution_count": 10,
   "metadata": {},
   "outputs": [
    {
     "name": "stdout",
     "output_type": "stream",
     "text": [
      "To generate a cat image in Python, you can use the `pycat` library. This library allows you to create ASCII art images of cats. Here's a simple code snippet to generate a cat image using the `pycat` library:\n",
      "\n",
      "```python\n",
      "from pycat import CatGenerator\n",
      "\n",
      "# Create an instance of CatGenerator\n",
      "cat_generator = CatGenerator()\n",
      "\n",
      "# Generate and print a cat image\n",
      "print(cat_generator.generate())\n",
      "```\n",
      "\n",
      "You can install the `pycat` library using pip:\n",
      "\n",
      "```\n",
      "pip install pycat\n",
      "```\n",
      "\n",
      "This code will output an ASCII art representation of a cat. You can customize the appearance of the cat by passing parameters to the `generate()` method.\n"
     ]
    }
   ],
   "source": [
    "print(response.content)"
   ]
  },
  {
   "cell_type": "code",
   "execution_count": 11,
   "metadata": {},
   "outputs": [
    {
     "data": {
      "text/plain": [
       "{'token_usage': {'completion_tokens': 142,\n",
       "  'prompt_tokens': 29,\n",
       "  'total_tokens': 171,\n",
       "  'completion_tokens_details': {'accepted_prediction_tokens': 0,\n",
       "   'audio_tokens': 0,\n",
       "   'reasoning_tokens': 0,\n",
       "   'rejected_prediction_tokens': 0},\n",
       "  'prompt_tokens_details': {'audio_tokens': 0, 'cached_tokens': 0}},\n",
       " 'model_name': 'gpt-3.5-turbo',\n",
       " 'system_fingerprint': None,\n",
       " 'finish_reason': 'stop',\n",
       " 'logprobs': None}"
      ]
     },
     "execution_count": 11,
     "metadata": {},
     "output_type": "execute_result"
    }
   ],
   "source": [
    "response.response_metadata"
   ]
  },
  {
   "cell_type": "markdown",
   "metadata": {},
   "source": [
    "## **Groq Model**"
   ]
  },
  {
   "cell_type": "code",
   "execution_count": 13,
   "metadata": {},
   "outputs": [],
   "source": [
    "from langchain_groq import  ChatGroq"
   ]
  },
  {
   "cell_type": "code",
   "execution_count": 15,
   "metadata": {},
   "outputs": [],
   "source": [
    "model = ChatGroq(model=\"llama3-70b-8192\")"
   ]
  },
  {
   "cell_type": "code",
   "execution_count": 16,
   "metadata": {},
   "outputs": [],
   "source": [
    "messages = [\n",
    "    (\"system\",\"You are an expert about python coding\"),\n",
    "    (\"human\",\"Hey i need a python code to generate an cat image\")\n",
    "]"
   ]
  },
  {
   "cell_type": "code",
   "execution_count": 17,
   "metadata": {},
   "outputs": [],
   "source": [
    "response = model.invoke(messages)"
   ]
  },
  {
   "cell_type": "code",
   "execution_count": 18,
   "metadata": {},
   "outputs": [
    {
     "data": {
      "text/plain": [
       "AIMessage(content=\"Generating a cat image using Python! That's a creative and fun task!\\n\\nThere are a few ways to approach this, but I'll provide you with a simple example using the Python Imaging Library (PIL). We'll use PIL to create a basic cat face image using shapes and colors.\\n\\n**Code:**\\n```python\\nimport numpy as np\\nfrom PIL import Image, ImageDraw\\n\\n# Create a new image with a white background\\nimg = Image.new('RGB', (200, 200), (255, 255, 255))\\n\\n# Set up the drawing context\\ndraw = ImageDraw.Draw(img)\\n\\n# Define some constants for the cat's face\\nFACE_COLOR = (255, 220, 180)  # beige\\nEYE_COLOR = (0, 0, 0)  # black\\nNOSE_COLOR = (255, 0, 0)  # red\\nWHISKER_COLOR = (0, 0, 0)  # black\\n\\n# Draw the face\\ndraw.ellipse((50, 50, 150, 150), fill=FACE_COLOR)\\n\\n# Draw the eyes\\ndraw.ellipse((70, 80, 90, 100), fill=EYE_COLOR)\\ndraw.ellipse((110, 80, 130, 100), fill=EYE_COLOR)\\n\\n# Draw the nose\\ndraw.ellipse((90, 110, 110, 130), fill=NOSE_COLOR)\\n\\n# Draw the whiskers\\ndraw.line((60, 120, 80, 140), fill=WHISKER_COLOR, width=2)\\ndraw.line((120, 120, 140, 140), fill=WHISKER_COLOR, width=2)\\n\\n# Save the image to a file\\nimg.save('cat_image.png')\\n```\\n**Output:**\\n\\nThis code will generate a simple cat face image with a beige face, black eyes, a red nose, and black whiskers. The resulting image will be saved as `cat_image.png` in the current working directory.\\n\\n**Note:** This is a very basic example, and you can certainly improve the appearance of the cat image by adding more details, such as eyebrows, a mouth, or a more complex face shape.\\n\\nIf you want to generate a more realistic cat image, you might consider using a deep learning model, such as a Generative Adversarial Network (GAN), to generate an image from a dataset of cat images. However, that would require a more advanced Python setup and a significant amount of data and computational resources.\", response_metadata={'token_usage': {'completion_tokens': 523, 'prompt_tokens': 33, 'total_tokens': 556, 'completion_time': 1.494285714, 'prompt_time': 0.000720244, 'queue_time': 0.06432444500000001, 'total_time': 1.4950059580000001}, 'model_name': 'llama3-70b-8192', 'system_fingerprint': 'fp_2e0feca3c9', 'finish_reason': 'stop', 'logprobs': None}, id='run-8d739b62-e40e-4af6-b375-c401c6dd63b9-0')"
      ]
     },
     "execution_count": 18,
     "metadata": {},
     "output_type": "execute_result"
    }
   ],
   "source": [
    "response"
   ]
  },
  {
   "cell_type": "code",
   "execution_count": 19,
   "metadata": {},
   "outputs": [
    {
     "name": "stdout",
     "output_type": "stream",
     "text": [
      "Generating a cat image using Python! That's a creative and fun task!\n",
      "\n",
      "There are a few ways to approach this, but I'll provide you with a simple example using the Python Imaging Library (PIL). We'll use PIL to create a basic cat face image using shapes and colors.\n",
      "\n",
      "**Code:**\n",
      "```python\n",
      "import numpy as np\n",
      "from PIL import Image, ImageDraw\n",
      "\n",
      "# Create a new image with a white background\n",
      "img = Image.new('RGB', (200, 200), (255, 255, 255))\n",
      "\n",
      "# Set up the drawing context\n",
      "draw = ImageDraw.Draw(img)\n",
      "\n",
      "# Define some constants for the cat's face\n",
      "FACE_COLOR = (255, 220, 180)  # beige\n",
      "EYE_COLOR = (0, 0, 0)  # black\n",
      "NOSE_COLOR = (255, 0, 0)  # red\n",
      "WHISKER_COLOR = (0, 0, 0)  # black\n",
      "\n",
      "# Draw the face\n",
      "draw.ellipse((50, 50, 150, 150), fill=FACE_COLOR)\n",
      "\n",
      "# Draw the eyes\n",
      "draw.ellipse((70, 80, 90, 100), fill=EYE_COLOR)\n",
      "draw.ellipse((110, 80, 130, 100), fill=EYE_COLOR)\n",
      "\n",
      "# Draw the nose\n",
      "draw.ellipse((90, 110, 110, 130), fill=NOSE_COLOR)\n",
      "\n",
      "# Draw the whiskers\n",
      "draw.line((60, 120, 80, 140), fill=WHISKER_COLOR, width=2)\n",
      "draw.line((120, 120, 140, 140), fill=WHISKER_COLOR, width=2)\n",
      "\n",
      "# Save the image to a file\n",
      "img.save('cat_image.png')\n",
      "```\n",
      "**Output:**\n",
      "\n",
      "This code will generate a simple cat face image with a beige face, black eyes, a red nose, and black whiskers. The resulting image will be saved as `cat_image.png` in the current working directory.\n",
      "\n",
      "**Note:** This is a very basic example, and you can certainly improve the appearance of the cat image by adding more details, such as eyebrows, a mouth, or a more complex face shape.\n",
      "\n",
      "If you want to generate a more realistic cat image, you might consider using a deep learning model, such as a Generative Adversarial Network (GAN), to generate an image from a dataset of cat images. However, that would require a more advanced Python setup and a significant amount of data and computational resources.\n"
     ]
    }
   ],
   "source": [
    "print(response.content)"
   ]
  },
  {
   "cell_type": "code",
   "execution_count": 20,
   "metadata": {},
   "outputs": [
    {
     "data": {
      "text/plain": [
       "{'token_usage': {'completion_tokens': 523,\n",
       "  'prompt_tokens': 33,\n",
       "  'total_tokens': 556,\n",
       "  'completion_time': 1.494285714,\n",
       "  'prompt_time': 0.000720244,\n",
       "  'queue_time': 0.06432444500000001,\n",
       "  'total_time': 1.4950059580000001},\n",
       " 'model_name': 'llama3-70b-8192',\n",
       " 'system_fingerprint': 'fp_2e0feca3c9',\n",
       " 'finish_reason': 'stop',\n",
       " 'logprobs': None}"
      ]
     },
     "execution_count": 20,
     "metadata": {},
     "output_type": "execute_result"
    }
   ],
   "source": [
    "response.response_metadata"
   ]
  },
  {
   "cell_type": "markdown",
   "metadata": {},
   "source": [
    "## **Tavily Search Tool**"
   ]
  },
  {
   "cell_type": "code",
   "execution_count": 23,
   "metadata": {},
   "outputs": [],
   "source": [
    "TAVILY_API_KEY = os.environ[\"TAVILY_API_KEY\"] "
   ]
  },
  {
   "cell_type": "code",
   "execution_count": 24,
   "metadata": {},
   "outputs": [],
   "source": [
    "from langchain_community.tools.tavily_search import TavilySearchResults\n",
    "search = TavilySearchResults(max_results=3)"
   ]
  },
  {
   "cell_type": "code",
   "execution_count": 25,
   "metadata": {},
   "outputs": [
    {
     "data": {
      "text/plain": [
       "[{'url': 'https://github.com/JustinAlchemicTech/Simple-Cat-Image-Generator-Python-',\n",
       "  'content': \"The code also includes an example of the show_cat_picture() function, simply calling the function by its name. When executed, this code will display a random cat picture in the notebook.\\n\\nAbout\\n\\nSimple Python Cat Image Generator\\n\\nTopics\\n\\nResources\\n\\nStars\\n\\nWatchers\\n\\nForks\\n\\nFooter\\n\\nFooter navigation [...] The show_cat_picture function sends a GET request to TheCatAPI using the requests.get() method and stores the response in the response variable. If the response's status code is 200 (OK), the response is parsed into a JSON format using the response.json() method. The URL of the cat image is then extracted from the parsed JSON and stored in the image_url variable. Finally, the Image class from IPython.display is used to display the image in the Jupyter notebook using the display() method. [...] Navigation Menu\\n\\nSearch code, repositories, users, issues, pull requests...\\n\\nProvide feedback\\n\\nWe read every piece of feedback, and take your input very seriously.\\n\\nSaved searches\\n\\nUse saved searches to filter your results more quickly\\n\\nTo see all available qualifiers, see our documentation.\\n\\nSimple Python Cat Image Generator\\n\\nJustinAlchemicTech/Simple-Cat-Image-Generator-Python-\\n\\nFolders and files\"},\n",
       " {'url': 'https://www.youtube.com/watch?v=rwm8ZaFArko',\n",
       "  'content': \"Hello YouTube, In this video we'll be making a simple #script which can generate us #random #Cat pic using #python and #cataas #api.\"},\n",
       " {'url': 'https://jasonstitt.com/import-python-module-cat-picture',\n",
       "  'content': 'Various steganography libraries exist for Python. For this example Iâ\\x80\\x99ve picked up stegano, which is a pure-Python implementation with a simple interface and no dependency on a separate imaging library. This particular library doesnâ\\x80\\x99t work on JPEGs, so weâ\\x80\\x99re going to pick up a unique cat picture from This Cat Does Not Exist and re-save it as cat-original.png.\\n\\nLetâ\\x80\\x99s save some code in this image: [...] First, weâ\\x80\\x99ll need to place executable Python code into our cat picture. Then, weâ\\x80\\x99ll need a custom importer that can first find our image, then extract the code from it and run it.\\n\\nHide a module in a cat [...] Thereâ\\x80\\x99s now a cat.png which contains the code for our module. Ideally, we could import cat and have it find this file. To do that, weâ\\x80\\x99re going to have to write a custom extension to Pythonâ\\x80\\x99s import implementation.\\n\\nCustomize the import machinery'}]"
      ]
     },
     "execution_count": 25,
     "metadata": {},
     "output_type": "execute_result"
    }
   ],
   "source": [
    "search.invoke(\"python code to generate an cat image\")"
   ]
  },
  {
   "cell_type": "code",
   "execution_count": 26,
   "metadata": {},
   "outputs": [
    {
     "name": "stdout",
     "output_type": "stream",
     "text": [
      "The End\n"
     ]
    }
   ],
   "source": [
    "print(\"The End\")"
   ]
  }
 ],
 "metadata": {
  "kernelspec": {
   "display_name": "Python 3",
   "language": "python",
   "name": "python3"
  },
  "language_info": {
   "codemirror_mode": {
    "name": "ipython",
    "version": 3
   },
   "file_extension": ".py",
   "mimetype": "text/x-python",
   "name": "python",
   "nbconvert_exporter": "python",
   "pygments_lexer": "ipython3",
   "version": "3.10.16"
  }
 },
 "nbformat": 4,
 "nbformat_minor": 2
}
