{
 "cells": [
  {
   "cell_type": "code",
   "execution_count": 1,
   "metadata": {},
   "outputs": [],
   "source": [
    "import os\n",
    "from dotenv import load_dotenv,find_dotenv\n",
    "_ = load_dotenv(find_dotenv())\n",
    "open_api_key = os.environ[\"OPENAI_API_KEY\"]\n",
    "TAVILY_API_KEY = os.environ[\"TAVILY_API_KEY\"] "
   ]
  },
  {
   "cell_type": "code",
   "execution_count": 2,
   "metadata": {},
   "outputs": [],
   "source": [
    "os.environ[\"TAVILY_API_KEY\"] = TAVILY_API_KEY"
   ]
  },
  {
   "cell_type": "code",
   "execution_count": 3,
   "metadata": {},
   "outputs": [],
   "source": [
    "from langchain_openai import ChatOpenAI\n",
    "llm = ChatOpenAI(model = \"gpt-3.5-turbo\")"
   ]
  },
  {
   "cell_type": "code",
   "execution_count": 4,
   "metadata": {},
   "outputs": [],
   "source": [
    "from langchain_community.tools.tavily_search import TavilySearchResults\n",
    "search = TavilySearchResults(max_results=3)"
   ]
  },
  {
   "cell_type": "code",
   "execution_count": 5,
   "metadata": {},
   "outputs": [
    {
     "data": {
      "text/plain": [
       "[{'url': 'https://en.wikipedia.org/wiki/List_of_capitals_of_France',\n",
       "  'content': 'Find sources:\\xa0\"List of capitals of France\"\\xa0–\\xa0news\\xa0· newspapers\\xa0· books\\xa0· scholar\\xa0· JSTOR (July 2012) (Learn how and when to remove this message)\\nThis is a chronological list of capitals of France. The capital of France has been Paris since its liberation in 1944.[1]\\nChronology[edit]\\nTournai (before 486), current-day Belgium\\nSoissons (486–936)\\nLaon (936–987)\\nParis (987–1419), the residence of the Kings of France, although they were consecrated at Reims.'},\n",
       " {'url': 'https://home.adelphi.edu/~ca19535/page%204.html',\n",
       "  'content': 'Home    Spain\\n    Sydney\\n    San Francisco\\n    Paris\\n    Las Vegas\\n    Maui\\nParis, France\\nParis facts: Paris, the capital of France\\nParis is the capital of France, the largest country of Europe with 550 000 km2 (65 millions inhabitants).\\nParis has 2.234 million inhabitants end 2011. She is the core of Ile de France region (12 million people). [...] Paris facts: the capital of France in history\\nBefore Paris, the capital of France was Lyon (under the Romans). Paris first became the capital of France in 508 under King Clovis. After centuries with no unique capital of France, Paris retrieved its status of capital of France under King Philippe Auguste, who reigned between 1180 and 1223. You can see remains of the Philippe August Paris walls in the passageway between the Louvre parking and Louvre Museum [...] Paris remained the capital of France until today, with one four year interruption. During German occupation (WW2 , 1940-1944), the capital of France was Vichy.\\ngo to top\\nReference: http://www.parisdigest.com/information/facts.htm'},\n",
       " {'url': 'https://en.wikipedia.org/wiki/Paris',\n",
       "  'content': 'Paris (French pronunciation: [paʁi] ⓘ) is the capital and largest city of France. With an estimated population of 2,048,472 residents in January 2025[3] in an area of more than 105\\xa0km2 (41\\xa0sq\\xa0mi),[4] Paris is the fourth-most populous city in the European Union, the ninth-most populous city in Europe and the 30th most densely populated city in the world in 2022.[5] Since the 17th century, Paris has been one of the world\\'s major centres of finance, diplomacy, commerce, culture, fashion, and [...] As the capital of France, Paris is the seat of France\\'s national government. For the executive, the two chief officers each have their own official residences, which also serve as their offices. The President of the French Republic resides at the Élysée Palace.[122] The Prime Minister\\'s seat is at the Hôtel Matignon.[123][124] Government ministries are located in various parts of the city, many near the Hôtel Matignon.[125] [...] Jump to content\\nMain menu\\nSearch\\nAppearance\\nDonate\\nCreate account\\nLog in\\nPersonal tools\\n        Photograph your local culture, help Wikipedia and win!\\nToggle the table of contents\\nParis\\n279 languages\\nArticle\\nTalk\\nRead\\nView source\\nView history\\nTools\\nCoordinates: 48°51′24″N 2°21′8″E\\nFrom Wikipedia, the free encyclopedia\\nThis article is about the capital city of France. For other uses, see Paris (disambiguation).\\n\"Parisien\" redirects here. For other uses, see Parisien (disambiguation).\\nParis'}]"
      ]
     },
     "execution_count": 5,
     "metadata": {},
     "output_type": "execute_result"
    }
   ],
   "source": [
    "search.invoke(\"What is the capital of France?\")"
   ]
  },
  {
   "cell_type": "code",
   "execution_count": 6,
   "metadata": {},
   "outputs": [],
   "source": [
    "tools = [search]"
   ]
  },
  {
   "cell_type": "code",
   "execution_count": 7,
   "metadata": {},
   "outputs": [
    {
     "data": {
      "text/plain": [
       "[TavilySearchResults(max_results=3)]"
      ]
     },
     "execution_count": 7,
     "metadata": {},
     "output_type": "execute_result"
    }
   ],
   "source": [
    "tools"
   ]
  },
  {
   "cell_type": "code",
   "execution_count": 8,
   "metadata": {},
   "outputs": [],
   "source": [
    "from langgraph.prebuilt import create_react_agent"
   ]
  },
  {
   "cell_type": "code",
   "execution_count": 9,
   "metadata": {},
   "outputs": [],
   "source": [
    "agent_executor = create_react_agent(llm,tools)"
   ]
  },
  {
   "cell_type": "code",
   "execution_count": 10,
   "metadata": {},
   "outputs": [
    {
     "name": "stdout",
     "output_type": "stream",
     "text": [
      "{'messages': [HumanMessage(content='tell me about the capital of France', id='693367da-5bd7-4095-902a-afcce5e7cb37'), AIMessage(content='', additional_kwargs={'tool_calls': [{'id': 'call_V39Cwf7R3FpRvi8PByepEgzZ', 'function': {'arguments': '{\"query\":\"capital of France\"}', 'name': 'tavily_search_results_json'}, 'type': 'function'}]}, response_metadata={'token_usage': {'completion_tokens': 21, 'prompt_tokens': 88, 'total_tokens': 109, 'completion_tokens_details': {'accepted_prediction_tokens': 0, 'audio_tokens': 0, 'reasoning_tokens': 0, 'rejected_prediction_tokens': 0}, 'prompt_tokens_details': {'audio_tokens': 0, 'cached_tokens': 0}}, 'model_name': 'gpt-3.5-turbo', 'system_fingerprint': None, 'finish_reason': 'tool_calls', 'logprobs': None}, id='run-49653230-d323-4fb9-942c-aa4a350e9f54-0', tool_calls=[{'name': 'tavily_search_results_json', 'args': {'query': 'capital of France'}, 'id': 'call_V39Cwf7R3FpRvi8PByepEgzZ', 'type': 'tool_call'}]), ToolMessage(content='[{\"url\": \"https://en.wikipedia.org/wiki/List_of_capitals_of_France\", \"content\": \"Find sources:\\xa0\\\\\"List of capitals of France\\\\\"\\xa0–\\xa0news\\xa0· newspapers\\xa0· books\\xa0· scholar\\xa0· JSTOR (July 2012) (Learn how and when to remove this message)\\\\nThis is a chronological list of capitals of France. The capital of France has been Paris since its liberation in 1944.[1]\\\\nChronology[edit]\\\\nTournai (before 486), current-day Belgium\\\\nSoissons (486–936)\\\\nLaon (936–987)\\\\nParis (987–1419), the residence of the Kings of France, although they were consecrated at Reims. [...] Bordeaux (September 1914), the government was relocated from Paris to Bordeaux very briefly during World War I, when it was feared that Paris would soon fall into German hands. These fears were alleviated after the German Army was pushed back at the First Battle of the Marne.\\\\nTours (10–13 June 1940), the city served as the temporary capital of France during World War II after the government fled Paris due to the German advance. [...] Paris (1789–1871), on 5 and 6 October 1789, a throng from Paris invaded the castle and forced the royal family to move back to Paris. The National Constituent Assembly followed the King to Paris soon afterward; Versailles lost its role of capital city.\\\\nProvisional seats of the government:\\\\nVersailles (1871), the French Third Republic established Versailles as its provisional seat of government in March 1871 after the Paris Commune took control of Paris.\"}, {\"url\": \"https://www.quora.com/What-are-the-three-official-capitals-of-France-and-which-one-is-the-most-commonly-visited\", \"content\": \"The capital of France is Paris. It is not only the country\\'s capital but also its largest city and a global center for art, culture, fashion,\"}, {\"url\": \"https://home.adelphi.edu/~ca19535/page%204.html\", \"content\": \"Home    Spain\\\\n    Sydney\\\\n    San Francisco\\\\n    Paris\\\\n    Las Vegas\\\\n    Maui\\\\nParis, France\\\\nParis facts: Paris, the capital of France\\\\nParis is the capital of France, the largest country of Europe with 550 000 km2 (65 millions inhabitants).\\\\nParis has 2.234 million inhabitants end 2011. She is the core of Ile de France region (12 million people). [...] Paris facts: the capital of France in history\\\\nBefore Paris, the capital of France was Lyon (under the Romans). Paris first became the capital of France in 508 under King Clovis. After centuries with no unique capital of France, Paris retrieved its status of capital of France under King Philippe Auguste, who reigned between 1180 and 1223. You can see remains of the Philippe August Paris walls in the passageway between the Louvre parking and Louvre Museum [...] Paris remained the capital of France until today, with one four year interruption. During German occupation (WW2 , 1940-1944), the capital of France was Vichy.\\\\ngo to top\\\\nReference: http://www.parisdigest.com/information/facts.htm\"}]', name='tavily_search_results_json', id='0e0a4bc4-afa9-4c76-8626-f11a538abc2b', tool_call_id='call_V39Cwf7R3FpRvi8PByepEgzZ'), AIMessage(content=\"The capital of France is Paris. Paris has been the capital of France since its liberation in 1944. It is not only the country's capital but also its largest city and a global center for art, culture, and fashion.\", response_metadata={'token_usage': {'completion_tokens': 49, 'prompt_tokens': 816, 'total_tokens': 865, 'completion_tokens_details': {'accepted_prediction_tokens': 0, 'audio_tokens': 0, 'reasoning_tokens': 0, 'rejected_prediction_tokens': 0}, 'prompt_tokens_details': {'audio_tokens': 0, 'cached_tokens': 0}}, 'model_name': 'gpt-3.5-turbo', 'system_fingerprint': None, 'finish_reason': 'stop', 'logprobs': None}, id='run-32197c66-d7f5-4b7b-87b1-bf048f7f86e3-0')]}\n"
     ]
    }
   ],
   "source": [
    "from langchain_core.messages import SystemMessage, HumanMessage\n",
    "\n",
    "response = agent_executor.invoke({\"messages\":[HumanMessage(content=\"tell me about the capital of France\")]})\n",
    "print(response)"
   ]
  },
  {
   "cell_type": "code",
   "execution_count": 11,
   "metadata": {},
   "outputs": [
    {
     "data": {
      "text/plain": [
       "[HumanMessage(content='tell me about the capital of France', id='693367da-5bd7-4095-902a-afcce5e7cb37'),\n",
       " AIMessage(content='', additional_kwargs={'tool_calls': [{'id': 'call_V39Cwf7R3FpRvi8PByepEgzZ', 'function': {'arguments': '{\"query\":\"capital of France\"}', 'name': 'tavily_search_results_json'}, 'type': 'function'}]}, response_metadata={'token_usage': {'completion_tokens': 21, 'prompt_tokens': 88, 'total_tokens': 109, 'completion_tokens_details': {'accepted_prediction_tokens': 0, 'audio_tokens': 0, 'reasoning_tokens': 0, 'rejected_prediction_tokens': 0}, 'prompt_tokens_details': {'audio_tokens': 0, 'cached_tokens': 0}}, 'model_name': 'gpt-3.5-turbo', 'system_fingerprint': None, 'finish_reason': 'tool_calls', 'logprobs': None}, id='run-49653230-d323-4fb9-942c-aa4a350e9f54-0', tool_calls=[{'name': 'tavily_search_results_json', 'args': {'query': 'capital of France'}, 'id': 'call_V39Cwf7R3FpRvi8PByepEgzZ', 'type': 'tool_call'}]),\n",
       " ToolMessage(content='[{\"url\": \"https://en.wikipedia.org/wiki/List_of_capitals_of_France\", \"content\": \"Find sources:\\xa0\\\\\"List of capitals of France\\\\\"\\xa0–\\xa0news\\xa0· newspapers\\xa0· books\\xa0· scholar\\xa0· JSTOR (July 2012) (Learn how and when to remove this message)\\\\nThis is a chronological list of capitals of France. The capital of France has been Paris since its liberation in 1944.[1]\\\\nChronology[edit]\\\\nTournai (before 486), current-day Belgium\\\\nSoissons (486–936)\\\\nLaon (936–987)\\\\nParis (987–1419), the residence of the Kings of France, although they were consecrated at Reims. [...] Bordeaux (September 1914), the government was relocated from Paris to Bordeaux very briefly during World War I, when it was feared that Paris would soon fall into German hands. These fears were alleviated after the German Army was pushed back at the First Battle of the Marne.\\\\nTours (10–13 June 1940), the city served as the temporary capital of France during World War II after the government fled Paris due to the German advance. [...] Paris (1789–1871), on 5 and 6 October 1789, a throng from Paris invaded the castle and forced the royal family to move back to Paris. The National Constituent Assembly followed the King to Paris soon afterward; Versailles lost its role of capital city.\\\\nProvisional seats of the government:\\\\nVersailles (1871), the French Third Republic established Versailles as its provisional seat of government in March 1871 after the Paris Commune took control of Paris.\"}, {\"url\": \"https://www.quora.com/What-are-the-three-official-capitals-of-France-and-which-one-is-the-most-commonly-visited\", \"content\": \"The capital of France is Paris. It is not only the country\\'s capital but also its largest city and a global center for art, culture, fashion,\"}, {\"url\": \"https://home.adelphi.edu/~ca19535/page%204.html\", \"content\": \"Home    Spain\\\\n    Sydney\\\\n    San Francisco\\\\n    Paris\\\\n    Las Vegas\\\\n    Maui\\\\nParis, France\\\\nParis facts: Paris, the capital of France\\\\nParis is the capital of France, the largest country of Europe with 550 000 km2 (65 millions inhabitants).\\\\nParis has 2.234 million inhabitants end 2011. She is the core of Ile de France region (12 million people). [...] Paris facts: the capital of France in history\\\\nBefore Paris, the capital of France was Lyon (under the Romans). Paris first became the capital of France in 508 under King Clovis. After centuries with no unique capital of France, Paris retrieved its status of capital of France under King Philippe Auguste, who reigned between 1180 and 1223. You can see remains of the Philippe August Paris walls in the passageway between the Louvre parking and Louvre Museum [...] Paris remained the capital of France until today, with one four year interruption. During German occupation (WW2 , 1940-1944), the capital of France was Vichy.\\\\ngo to top\\\\nReference: http://www.parisdigest.com/information/facts.htm\"}]', name='tavily_search_results_json', id='0e0a4bc4-afa9-4c76-8626-f11a538abc2b', tool_call_id='call_V39Cwf7R3FpRvi8PByepEgzZ'),\n",
       " AIMessage(content=\"The capital of France is Paris. Paris has been the capital of France since its liberation in 1944. It is not only the country's capital but also its largest city and a global center for art, culture, and fashion.\", response_metadata={'token_usage': {'completion_tokens': 49, 'prompt_tokens': 816, 'total_tokens': 865, 'completion_tokens_details': {'accepted_prediction_tokens': 0, 'audio_tokens': 0, 'reasoning_tokens': 0, 'rejected_prediction_tokens': 0}, 'prompt_tokens_details': {'audio_tokens': 0, 'cached_tokens': 0}}, 'model_name': 'gpt-3.5-turbo', 'system_fingerprint': None, 'finish_reason': 'stop', 'logprobs': None}, id='run-32197c66-d7f5-4b7b-87b1-bf048f7f86e3-0')]"
      ]
     },
     "execution_count": 11,
     "metadata": {},
     "output_type": "execute_result"
    }
   ],
   "source": [
    "response[\"messages\"]"
   ]
  },
  {
   "cell_type": "markdown",
   "metadata": {},
   "source": [
    "## **Adding Memory**"
   ]
  },
  {
   "cell_type": "code",
   "execution_count": 12,
   "metadata": {},
   "outputs": [],
   "source": [
    "from langgraph.checkpoint.memory import MemorySaver\n",
    "memory = MemorySaver()"
   ]
  },
  {
   "cell_type": "code",
   "execution_count": 13,
   "metadata": {},
   "outputs": [],
   "source": [
    "agent_executor = create_react_agent(llm,tools,checkpointer=memory)"
   ]
  },
  {
   "cell_type": "code",
   "execution_count": 14,
   "metadata": {},
   "outputs": [],
   "source": [
    "config = {\"configurable\":{\"thread_id\":\"001\"}}"
   ]
  },
  {
   "cell_type": "code",
   "execution_count": 15,
   "metadata": {},
   "outputs": [
    {
     "name": "stdout",
     "output_type": "stream",
     "text": [
      "Help on function put in module langgraph.checkpoint.memory:\n",
      "\n",
      "put(self, config: langchain_core.runnables.config.RunnableConfig, checkpoint: langgraph.checkpoint.base.Checkpoint, metadata: langgraph.checkpoint.base.CheckpointMetadata, new_versions: dict[str, typing.Union[str, int, float]]) -> langchain_core.runnables.config.RunnableConfig\n",
      "    Save a checkpoint to the in-memory storage.\n",
      "    \n",
      "    This method saves a checkpoint to the in-memory storage. The checkpoint is associated\n",
      "    with the provided config.\n",
      "    \n",
      "    Args:\n",
      "        config (RunnableConfig): The config to associate with the checkpoint.\n",
      "        checkpoint (Checkpoint): The checkpoint to save.\n",
      "        metadata (CheckpointMetadata): Additional metadata to save with the checkpoint.\n",
      "        new_versions (dict): New versions as of this write\n",
      "    \n",
      "    Returns:\n",
      "        RunnableConfig: The updated config containing the saved checkpoint's timestamp.\n",
      "\n"
     ]
    }
   ],
   "source": [
    "import langgraph.checkpoint.memory as memory_module\n",
    "help(memory_module.MemorySaver.put)"
   ]
  },
  {
   "cell_type": "code",
   "execution_count": 16,
   "metadata": {},
   "outputs": [
    {
     "name": "stdout",
     "output_type": "stream",
     "text": [
      "{'agent': {'messages': [AIMessage(content='', additional_kwargs={'tool_calls': [{'id': 'call_UF03EkkE6JUJ7tHsQZx4KvlO', 'function': {'arguments': '{\"query\":\"2024 soccer Eurocup winner\"}', 'name': 'tavily_search_results_json'}, 'type': 'function'}]}, response_metadata={'token_usage': {'completion_tokens': 24, 'prompt_tokens': 91, 'total_tokens': 115, 'completion_tokens_details': {'accepted_prediction_tokens': 0, 'audio_tokens': 0, 'reasoning_tokens': 0, 'rejected_prediction_tokens': 0}, 'prompt_tokens_details': {'audio_tokens': 0, 'cached_tokens': 0}}, 'model_name': 'gpt-3.5-turbo', 'system_fingerprint': None, 'finish_reason': 'tool_calls', 'logprobs': None}, id='run-77376408-105a-4e79-a207-84e9babdd4dd-0', tool_calls=[{'name': 'tavily_search_results_json', 'args': {'query': '2024 soccer Eurocup winner'}, 'id': 'call_UF03EkkE6JUJ7tHsQZx4KvlO', 'type': 'tool_call'}])]}}\n",
      "----\n",
      "{'tools': {'messages': [ToolMessage(content='[{\"url\": \"https://www.youtube.com/watch?v=jPG0J8PrrrQ\", \"content\": \"Euro Cup 2024 final highlights: Spain wins record 4th title with a 2-1 victory against England · Comments1.\"}, {\"url\": \"https://www.cnn.com/2024/07/14/sport/spain-england-euro-2024-final-spt-intl/index.html\", \"content\": \"Ad Feedback\\\\nSports / Football\\\\nSpain wins Euro 2024, defeating England 2-1 in a dramatic final to claim record fourth European Championship\\\\nBy Ben Morse, CNN\\\\n5 minute read\\\\nUpdated 5:44 PM EDT, Sun July 14, 2024\\\\n\\\\nLink Copied!\\\\nFollow:\\\\nUK See your latest updates [...] Alvaro Morata lifts the Henri Delaunay trophy after Spain defeats England in the Euro 2024 final.\\\\nMichael Regan/UEFA/Getty Images\\\\nCNN \\xa0—\\xa0\\\\nSpain won a record-breaking fourth European Championship, defeating England 2-1 following a drama-filled second half in the Euro 2024 final on Sunday in Berlin. [...] Spain wins Euro 2024, defeating England 2-1 in a dramatic final to claim record fourth European Championship | CNN\"}, {\"url\": \"https://www.uefa.com/euro2024/news/028f-1b4e4a9a6d42-253a2c18efdf-1000--uefa-euro-2024-meet-the-winners/\", \"content\": \"How they got there, top scorers, pedigree, key players and the coach – all you need to know about UEFA EURO 2024 winners Spain.\\\\nRoute to glory\\\\nGroup B winners\\\\n3-0 vs Croatia (Berlin, 15 June)\\\\n1-0 vs Italy (Gelsenkirchen, 20 June)\\\\n1-0 vs Albania (Düsseldorf, 24 June)\\\\nRound of 16\\\\n4-1 vs Georgia (Cologne, 30 June)\\\\nQuarter-final\\\\n2-1 aet vs Germany (Stuttgart, 5 July)\\\\nSemi-final\\\\n2-1 vs France (Munich, 9 July)\\\\nFinal\\\\n2-1 vs England (Berlin, 10 July)\\\\nSpain\\\\nPedigree [...] UEFA.com works better on other browsers\\\\nFor the best possible experience, we recommend using Chrome, Firefox or Microsoft Edge.\\\\nSkip to main content\\\\nUEFA EURO 2024\\\\nUEFA EURO 2024 - UEFA EURO 2024: Meet the winners - News \\\\nUEFA EURO 2024: Meet the winners\\\\nSunday, July 14, 2024\\\\nArticle summary\\\\nGet the full lowdown on UEFA EURO 2024 winners Spain.\\\\nArticle top media content\\\\nSpain\\'s route to EURO 2024 glory: Every goal\\\\nArticle body [...] Live 14/07/2024 Lowdown: EURO 2024 final ------------------------ Spain beat England 2-1 in the EURO 2024 final at Olympiastadion Berlin on Sunday 14 July.\\\\nUEFA EURO 2024\"}]', name='tavily_search_results_json', tool_call_id='call_UF03EkkE6JUJ7tHsQZx4KvlO')]}}\n",
      "----\n",
      "{'agent': {'messages': [AIMessage(content=\"Spain won the 2024 soccer Eurocup by defeating England with a score of 2-1 in the final. This victory marked Spain's record-breaking fourth European Championship win.\", response_metadata={'token_usage': {'completion_tokens': 38, 'prompt_tokens': 787, 'total_tokens': 825, 'completion_tokens_details': {'accepted_prediction_tokens': 0, 'audio_tokens': 0, 'reasoning_tokens': 0, 'rejected_prediction_tokens': 0}, 'prompt_tokens_details': {'audio_tokens': 0, 'cached_tokens': 0}}, 'model_name': 'gpt-3.5-turbo', 'system_fingerprint': None, 'finish_reason': 'stop', 'logprobs': None}, id='run-4194cb43-0186-4fd9-b15e-10dc859af1cc-0')]}}\n",
      "----\n"
     ]
    }
   ],
   "source": [
    "agent_executor = create_react_agent(llm, tools, checkpointer=memory)\n",
    "for chunk in agent_executor.stream(\n",
    "    {\"messages\": [HumanMessage(content=\"Who won the 2024 soccer Eurocup?\")]},\n",
    "    config=config\n",
    "):\n",
    "    print(chunk)\n",
    "    print(\"----\")\n"
   ]
  },
  {
   "cell_type": "code",
   "execution_count": 17,
   "metadata": {},
   "outputs": [
    {
     "name": "stdout",
     "output_type": "stream",
     "text": [
      "{'agent': {'messages': [AIMessage(content=\"The top stars of the Spain team that won the 2024 soccer Eurocup included key players such as Alvaro Morata, who played a significant role in the team's success. Other notable players who contributed to Spain's victory included Sergio Ramos, Gerard Pique, and Thiago Alcantara. These players played crucial roles in helping Spain secure the Eurocup title.\", response_metadata={'token_usage': {'completion_tokens': 78, 'prompt_tokens': 841, 'total_tokens': 919, 'completion_tokens_details': {'accepted_prediction_tokens': 0, 'audio_tokens': 0, 'reasoning_tokens': 0, 'rejected_prediction_tokens': 0}, 'prompt_tokens_details': {'audio_tokens': 0, 'cached_tokens': 0}}, 'model_name': 'gpt-3.5-turbo', 'system_fingerprint': None, 'finish_reason': 'stop', 'logprobs': None}, id='run-0eece803-f04f-4d0f-add6-7105cdd528b4-0')]}}\n",
      "----\n"
     ]
    }
   ],
   "source": [
    "agent_executor = create_react_agent(llm, tools, checkpointer=memory)\n",
    "for chunk in agent_executor.stream(\n",
    "    {\"messages\": [HumanMessage(content=\"Who were the top stars of that winner team?\")]},\n",
    "    config=config\n",
    "):\n",
    "    print(chunk)\n",
    "    print(\"----\")\n"
   ]
  },
  {
   "cell_type": "code",
   "execution_count": 18,
   "metadata": {},
   "outputs": [
    {
     "name": "stdout",
     "output_type": "stream",
     "text": [
      "The End\n"
     ]
    }
   ],
   "source": [
    "print(\"The End\")"
   ]
  }
 ],
 "metadata": {
  "kernelspec": {
   "display_name": "Python 3",
   "language": "python",
   "name": "python3"
  },
  "language_info": {
   "codemirror_mode": {
    "name": "ipython",
    "version": 3
   },
   "file_extension": ".py",
   "mimetype": "text/x-python",
   "name": "python",
   "nbconvert_exporter": "python",
   "pygments_lexer": "ipython3",
   "version": "3.10.16"
  }
 },
 "nbformat": 4,
 "nbformat_minor": 2
}
