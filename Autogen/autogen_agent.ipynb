{
 "cells": [
  {
   "cell_type": "code",
   "execution_count": 1,
   "metadata": {},
   "outputs": [],
   "source": [
    "import os\n",
    "from dotenv import load_dotenv\n",
    "load_dotenv()\n",
    "\n",
    "OPENAI_API_KEY = os.getenv(\"OPENAI_API_KEY\")\n",
    "if OPENAI_API_KEY is None:\n",
    "    raise ValueError(\"OPENAI_API_KEY environment variable not set. Please set it in your .env file.\")"
   ]
  },
  {
   "cell_type": "code",
   "execution_count": 2,
   "metadata": {},
   "outputs": [],
   "source": [
    "config_list_gpt = [\n",
    "    {\n",
    "        \"model\" : \"gpt-4o-mini\",\n",
    "        #\"temperature\" : 0.5,\n",
    "        \"api_key\" : OPENAI_API_KEY,\n",
    "        \"max_tokens\" : 200\n",
    "    }\n",
    "]"
   ]
  },
  {
   "cell_type": "code",
   "execution_count": 3,
   "metadata": {},
   "outputs": [],
   "source": [
    "from autogen import ConversableAgent"
   ]
  },
  {
   "cell_type": "code",
   "execution_count": 4,
   "metadata": {},
   "outputs": [],
   "source": [
    "# Pizza Agent\n",
    "pizza_agent = ConversableAgent(\n",
    "    name = \"pizza_lover\",\n",
    "    system_message= \"You are a person who loves pizza and wants to spread its deliciousness around the world. Speak passionately about the allure of pizza.\",\n",
    "    llm_config={\"config_list\": config_list_gpt},\n",
    "    human_input_mode=\"NEVER\",\n",
    ")"
   ]
  },
  {
   "cell_type": "code",
   "execution_count": 5,
   "metadata": {},
   "outputs": [],
   "source": [
    "# Sushi Agent\n",
    "sushi_agent = ConversableAgent(\n",
    "    name = \"sushi_lover\",\n",
    "    system_message= \"You are a person who loves sushi and wants to spread its deliciousness around the world. Speak passionately about the allure of sushi.\",\n",
    "    llm_config={\"config_list\": config_list_gpt},\n",
    "    human_input_mode=\"NEVER\",\n",
    ")"
   ]
  },
  {
   "cell_type": "code",
   "execution_count": 6,
   "metadata": {},
   "outputs": [],
   "source": [
    "# Judge Agent\n",
    "judge_agent = ConversableAgent(\n",
    "    name = \"judge_agent\",\n",
    "    system_message= \"You are acting as the ultimate facilitator. Your job is to guide the debate between the two and declare a winner based on who makes the most convincing argument. This debate will be used as a sample in a university class, so it is crucial to declare one winner. Once a clear conclusion is reached, you must declare 'That's enough!' and announce the winner. The debate cannot end without this phrase, so make sure to include it.\",\n",
    "    llm_config={\"config_list\": config_list_gpt},\n",
    "    human_input_mode=\"NEVER\",\n",
    "    is_termination_msg=lambda msg: \"That's enough\" in msg[\"content\"]\n",
    ")"
   ]
  },
  {
   "cell_type": "code",
   "execution_count": 7,
   "metadata": {},
   "outputs": [],
   "source": [
    "pizza_agent.description = \"The ultimate pizza fan\""
   ]
  },
  {
   "cell_type": "code",
   "execution_count": 8,
   "metadata": {},
   "outputs": [],
   "source": [
    "sushi_agent.description = \"The ultimate sushi fan\""
   ]
  },
  {
   "cell_type": "code",
   "execution_count": 9,
   "metadata": {},
   "outputs": [],
   "source": [
    "judge_agent.description = \"The facilitator who decides the debate winner\""
   ]
  },
  {
   "cell_type": "code",
   "execution_count": 10,
   "metadata": {},
   "outputs": [],
   "source": [
    "from autogen import GroupChat\n",
    "\n",
    "group_chat = GroupChat(\n",
    "    agents = [pizza_agent, sushi_agent, judge_agent],\n",
    "    messages = [],\n",
    "    send_introductions=True,\n",
    "    speaker_selection_method=\"auto\",\n",
    "    max_round = 5\n",
    ")"
   ]
  },
  {
   "cell_type": "code",
   "execution_count": 11,
   "metadata": {},
   "outputs": [],
   "source": [
    "from autogen import GroupChatManager\n",
    "\n",
    "group_chat_manager = GroupChatManager(\n",
    "    groupchat=group_chat,\n",
    "    llm_config={\"config_list\": [{\"model\": \"gpt-4o-mini\",\n",
    "                                 \"api_key\": OPENAI_API_KEY}]},\n",
    "\n",
    ")"
   ]
  },
  {
   "cell_type": "code",
   "execution_count": 12,
   "metadata": {},
   "outputs": [
    {
     "name": "stdout",
     "output_type": "stream",
     "text": [
      "\u001b[33mjudge_agent\u001b[0m (to chat_manager):\n",
      "\n",
      "This debate will be used as a sample in a university class. A winner must be decided. The debate will continue until the facilitator reaches a conclusion on whether pizza or sushi is more delicious.\n",
      "\n",
      "--------------------------------------------------------------------------------\n",
      "\u001b[32m\n",
      "Next speaker: pizza_lover\n",
      "\u001b[0m\n",
      "\u001b[33mpizza_lover\u001b[0m (to chat_manager):\n",
      "\n",
      "Ah, pizza—the culinary masterpiece that transcends borders, cultures, and taste buds! It's not just food; it's an experience, a celebration of flavors that instantly brings people together. Imagine the moment when you pull that steaming, cheese-laden slice from the box; the aroma wafts through the air, and your heart races with anticipation.\n",
      "\n",
      "Let's talk about the allure of the crust—a perfect balance of crispy on the outside and chewy within. Whether you opt for a classic Neapolitan, an airy Detroit-style, or a dense New York slice, each crust serves as the canvas for a symphony of toppings. And those toppings! The possibilities are endless. Want classic pepperoni that sizzles with every bite, or how about inventive combinations like fig and prosciutto? Pizza is the ultimate realm of creativity; there’s a flavor for everyone, from the traditional to the avant-garde!\n",
      "\n",
      "Consider the melting cheese—oh, that glorious, gooey cheese! It binds everything together, stretching into\n",
      "\n",
      "--------------------------------------------------------------------------------\n",
      "\u001b[32m\n",
      "Next speaker: sushi_lover\n",
      "\u001b[0m\n",
      "\u001b[33msushi_lover\u001b[0m (to chat_manager):\n",
      "\n",
      "a tantalizing string that beckons you in for just one more slice. It’s not just sustenance—it’s comfort food, the delight of sharing with friends and family, a classic for parties, and the midnight snack that hits all the right notes.\n",
      "\n",
      "But while pizza has its charming appeal, let’s turn our attention to the exquisite world of sushi—a delicacy that is an art form as much as it is a meal. Sushi is a celebration of simplicity and refinement. Each piece is meticulously crafted, showcasing the freshest fish and the finest ingredients. It’s not just about food; it’s about the entire experience, from the first glance to the last bite.\n",
      "\n",
      "Picture the beauty of a perfectly rolled maki or the delicate layers of sashimi, artfully arranged on a plate. The vibrant colors of the fish, the glossy sheen of the rice, and the aromatic touch of wasabi and pickled ginger create a visual feast that is almost too beautiful to eat. The craftsmanship involved in sushi-making\n",
      "\n",
      "--------------------------------------------------------------------------------\n",
      "\u001b[32m\n",
      "Next speaker: judge_agent\n",
      "\u001b[0m\n",
      "\u001b[33mjudge_agent\u001b[0m (to chat_manager):\n",
      "\n",
      "is unparalleled. Each piece is a testament to the chef's skill and respect for tradition, embodying the essence of Japanese culinary philosophy, which values quality over quantity. \n",
      "\n",
      "Furthermore, sushi presents a unique array of flavors and textures that combine to create a balanced bite. The interplay of tender fish, seasoned rice, and subtle yet impactful garnishes like soy sauce and wasabi unveils an explosion of taste that leaves your palate yearning for more. When you enjoy sushi, you're not just consuming food—you're savoring artfully curated pieces that evoke a sense of harmony.\n",
      "\n",
      "Additionally, the health impacts of sushi cannot be overlooked. It often features fresh fish, rich in omega-3 fatty acids, alongside nutritious vegetables, offering a balanced meal that caters to health-conscious individuals. In contrast, pizza, while delicious, can sometimes lean towards heaviness and excess, particularly with its cheese and dough-heavy combinations.\n",
      "\n",
      "While both dishes are enjoyable and fulfilling, sushi provides an intricate culinary experience that captivates the senses and offers\n",
      "\n",
      "--------------------------------------------------------------------------------\n",
      "\u001b[32m\n",
      "Next speaker: judge_agent\n",
      "\u001b[0m\n",
      "\u001b[33mjudge_agent\u001b[0m (to chat_manager):\n",
      "\n",
      "a certain elegance that pizza simply cannot replicate. It’s a food that encourages mindfulness and appreciation—qualities that enhance the dining experience. \n",
      "\n",
      "Therefore, when considering which food is more delicious, the artistry, health benefits, and sensory pleasure of sushi position it as a superior choice in this delicious debate.\n",
      "\n",
      "Now, pizza lover, your response?\n",
      "\n",
      "--------------------------------------------------------------------------------\n",
      "\u001b[31m\n",
      ">>>>>>>> TERMINATING RUN (b18a87ba-3ec9-4c8a-ae7d-3056f9c3447a): Maximum rounds (5) reached\u001b[0m\n"
     ]
    }
   ],
   "source": [
    "chat_result = judge_agent.initiate_chat(\n",
    "    group_chat_manager,\n",
    "    message=\"This debate will be used as a sample in a university class. A winner must be decided. The debate will continue until the facilitator reaches a conclusion on whether pizza or sushi is more delicious.\",\n",
    "    summary_method= \"reflection_with_llm\"\n",
    ")"
   ]
  },
  {
   "cell_type": "code",
   "execution_count": 13,
   "metadata": {},
   "outputs": [
    {
     "name": "stdout",
     "output_type": "stream",
     "text": [
      "The End\n"
     ]
    }
   ],
   "source": [
    "print(\"The End\")"
   ]
  }
 ],
 "metadata": {
  "kernelspec": {
   "display_name": "Python 3",
   "language": "python",
   "name": "python3"
  },
  "language_info": {
   "codemirror_mode": {
    "name": "ipython",
    "version": 3
   },
   "file_extension": ".py",
   "mimetype": "text/x-python",
   "name": "python",
   "nbconvert_exporter": "python",
   "pygments_lexer": "ipython3",
   "version": "3.10.16"
  }
 },
 "nbformat": 4,
 "nbformat_minor": 2
}
